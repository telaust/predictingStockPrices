{
 "cells": [
  {
   "cell_type": "code",
   "execution_count": 8,
   "metadata": {},
   "outputs": [],
   "source": [
    "import quandl"
   ]
  },
  {
   "cell_type": "code",
   "execution_count": 11,
   "metadata": {},
   "outputs": [],
   "source": [
    "import numpy as np\n",
    "from sklearn.linear_model import LinearRegression\n",
    "from sklearn.svm import SVR\n",
    "from sklearn.model_selection import train_test_split"
   ]
  },
  {
   "cell_type": "code",
   "execution_count": 80,
   "metadata": {
    "scrolled": true
   },
   "outputs": [
    {
     "data": {
      "text/plain": [
       "Open           float64\n",
       "High           float64\n",
       "Low            float64\n",
       "Close          float64\n",
       "Volume         float64\n",
       "Ex-Dividend    float64\n",
       "Split Ratio    float64\n",
       "Adj. Open      float64\n",
       "Adj. High      float64\n",
       "Adj. Low       float64\n",
       "Adj. Close     float64\n",
       "Adj. Volume    float64\n",
       "dtype: object"
      ]
     },
     "execution_count": 80,
     "metadata": {},
     "output_type": "execute_result"
    }
   ],
   "source": [
    "quandl.ApiConfig.api_key = 'WqusvbgLsNNWBgzbro5N'\n",
    "df = quandl.get(\"WIKI/FB\")\n",
    "df.dtypes"
   ]
  },
  {
   "cell_type": "code",
   "execution_count": 17,
   "metadata": {},
   "outputs": [],
   "source": [
    "import pandas"
   ]
  },
  {
   "cell_type": "code",
   "execution_count": 131,
   "metadata": {
    "scrolled": true
   },
   "outputs": [
    {
     "data": {
      "text/html": [
       "<div>\n",
       "<style scoped>\n",
       "    .dataframe tbody tr th:only-of-type {\n",
       "        vertical-align: middle;\n",
       "    }\n",
       "\n",
       "    .dataframe tbody tr th {\n",
       "        vertical-align: top;\n",
       "    }\n",
       "\n",
       "    .dataframe thead th {\n",
       "        text-align: right;\n",
       "    }\n",
       "</style>\n",
       "<table border=\"1\" class=\"dataframe\">\n",
       "  <thead>\n",
       "    <tr style=\"text-align: right;\">\n",
       "      <th></th>\n",
       "      <th>Date</th>\n",
       "      <th>Open</th>\n",
       "      <th>High</th>\n",
       "      <th>Low</th>\n",
       "      <th>Close</th>\n",
       "      <th>Adj Close</th>\n",
       "      <th>Volume</th>\n",
       "    </tr>\n",
       "  </thead>\n",
       "  <tbody>\n",
       "    <tr>\n",
       "      <td>240</td>\n",
       "      <td>2019-10-14</td>\n",
       "      <td>234.899994</td>\n",
       "      <td>238.130005</td>\n",
       "      <td>234.669998</td>\n",
       "      <td>235.869995</td>\n",
       "      <td>235.869995</td>\n",
       "      <td>24106900</td>\n",
       "    </tr>\n",
       "    <tr>\n",
       "      <td>241</td>\n",
       "      <td>2019-10-15</td>\n",
       "      <td>236.389999</td>\n",
       "      <td>237.649994</td>\n",
       "      <td>234.880005</td>\n",
       "      <td>235.320007</td>\n",
       "      <td>235.320007</td>\n",
       "      <td>21840000</td>\n",
       "    </tr>\n",
       "    <tr>\n",
       "      <td>242</td>\n",
       "      <td>2019-10-16</td>\n",
       "      <td>233.369995</td>\n",
       "      <td>235.240005</td>\n",
       "      <td>233.199997</td>\n",
       "      <td>234.369995</td>\n",
       "      <td>234.369995</td>\n",
       "      <td>18475800</td>\n",
       "    </tr>\n",
       "    <tr>\n",
       "      <td>243</td>\n",
       "      <td>2019-10-17</td>\n",
       "      <td>235.089996</td>\n",
       "      <td>236.149994</td>\n",
       "      <td>233.520004</td>\n",
       "      <td>235.279999</td>\n",
       "      <td>235.279999</td>\n",
       "      <td>16896300</td>\n",
       "    </tr>\n",
       "    <tr>\n",
       "      <td>244</td>\n",
       "      <td>2019-10-18</td>\n",
       "      <td>234.589996</td>\n",
       "      <td>237.580002</td>\n",
       "      <td>234.289993</td>\n",
       "      <td>236.410004</td>\n",
       "      <td>236.410004</td>\n",
       "      <td>24358400</td>\n",
       "    </tr>\n",
       "    <tr>\n",
       "      <td>245</td>\n",
       "      <td>2019-10-21</td>\n",
       "      <td>237.520004</td>\n",
       "      <td>240.990005</td>\n",
       "      <td>237.320007</td>\n",
       "      <td>240.509995</td>\n",
       "      <td>240.509995</td>\n",
       "      <td>21811800</td>\n",
       "    </tr>\n",
       "    <tr>\n",
       "      <td>246</td>\n",
       "      <td>2019-10-22</td>\n",
       "      <td>241.160004</td>\n",
       "      <td>242.199997</td>\n",
       "      <td>239.619995</td>\n",
       "      <td>239.960007</td>\n",
       "      <td>239.960007</td>\n",
       "      <td>20573400</td>\n",
       "    </tr>\n",
       "    <tr>\n",
       "      <td>247</td>\n",
       "      <td>2019-10-23</td>\n",
       "      <td>242.100006</td>\n",
       "      <td>243.240005</td>\n",
       "      <td>241.220001</td>\n",
       "      <td>243.179993</td>\n",
       "      <td>243.179993</td>\n",
       "      <td>18957200</td>\n",
       "    </tr>\n",
       "    <tr>\n",
       "      <td>248</td>\n",
       "      <td>2019-10-24</td>\n",
       "      <td>244.509995</td>\n",
       "      <td>244.800003</td>\n",
       "      <td>241.809998</td>\n",
       "      <td>243.580002</td>\n",
       "      <td>243.580002</td>\n",
       "      <td>17318800</td>\n",
       "    </tr>\n",
       "    <tr>\n",
       "      <td>249</td>\n",
       "      <td>2019-10-25</td>\n",
       "      <td>243.160004</td>\n",
       "      <td>246.729996</td>\n",
       "      <td>242.880005</td>\n",
       "      <td>246.580002</td>\n",
       "      <td>246.580002</td>\n",
       "      <td>18330500</td>\n",
       "    </tr>\n",
       "  </tbody>\n",
       "</table>\n",
       "</div>"
      ],
      "text/plain": [
       "           Date        Open        High         Low       Close   Adj Close  \\\n",
       "240  2019-10-14  234.899994  238.130005  234.669998  235.869995  235.869995   \n",
       "241  2019-10-15  236.389999  237.649994  234.880005  235.320007  235.320007   \n",
       "242  2019-10-16  233.369995  235.240005  233.199997  234.369995  234.369995   \n",
       "243  2019-10-17  235.089996  236.149994  233.520004  235.279999  235.279999   \n",
       "244  2019-10-18  234.589996  237.580002  234.289993  236.410004  236.410004   \n",
       "245  2019-10-21  237.520004  240.990005  237.320007  240.509995  240.509995   \n",
       "246  2019-10-22  241.160004  242.199997  239.619995  239.960007  239.960007   \n",
       "247  2019-10-23  242.100006  243.240005  241.220001  243.179993  243.179993   \n",
       "248  2019-10-24  244.509995  244.800003  241.809998  243.580002  243.580002   \n",
       "249  2019-10-25  243.160004  246.729996  242.880005  246.580002  246.580002   \n",
       "\n",
       "       Volume  \n",
       "240  24106900  \n",
       "241  21840000  \n",
       "242  18475800  \n",
       "243  16896300  \n",
       "244  24358400  \n",
       "245  21811800  \n",
       "246  20573400  \n",
       "247  18957200  \n",
       "248  17318800  \n",
       "249  18330500  "
      ]
     },
     "execution_count": 131,
     "metadata": {},
     "output_type": "execute_result"
    }
   ],
   "source": [
    "df = pandas.read_csv('~/AAPL.csv')\n",
    "df.tail(10)"
   ]
  },
  {
   "cell_type": "code",
   "execution_count": 117,
   "metadata": {},
   "outputs": [
    {
     "data": {
      "text/html": [
       "<div>\n",
       "<style scoped>\n",
       "    .dataframe tbody tr th:only-of-type {\n",
       "        vertical-align: middle;\n",
       "    }\n",
       "\n",
       "    .dataframe tbody tr th {\n",
       "        vertical-align: top;\n",
       "    }\n",
       "\n",
       "    .dataframe thead th {\n",
       "        text-align: right;\n",
       "    }\n",
       "</style>\n",
       "<table border=\"1\" class=\"dataframe\">\n",
       "  <thead>\n",
       "    <tr style=\"text-align: right;\">\n",
       "      <th></th>\n",
       "      <th>Open</th>\n",
       "      <th>High</th>\n",
       "      <th>Low</th>\n",
       "      <th>Close</th>\n",
       "      <th>Adj Close</th>\n",
       "      <th>Volume</th>\n",
       "    </tr>\n",
       "  </thead>\n",
       "  <tbody>\n",
       "    <tr>\n",
       "      <td>0</td>\n",
       "      <td>219.190002</td>\n",
       "      <td>219.690002</td>\n",
       "      <td>206.089996</td>\n",
       "      <td>212.240005</td>\n",
       "      <td>208.996857</td>\n",
       "      <td>45935500</td>\n",
       "    </tr>\n",
       "    <tr>\n",
       "      <td>1</td>\n",
       "      <td>211.149994</td>\n",
       "      <td>215.179993</td>\n",
       "      <td>209.270004</td>\n",
       "      <td>213.300003</td>\n",
       "      <td>210.040649</td>\n",
       "      <td>36660000</td>\n",
       "    </tr>\n",
       "    <tr>\n",
       "      <td>2</td>\n",
       "      <td>216.880005</td>\n",
       "      <td>220.449997</td>\n",
       "      <td>216.619995</td>\n",
       "      <td>218.860001</td>\n",
       "      <td>215.515686</td>\n",
       "      <td>38358900</td>\n",
       "    </tr>\n",
       "    <tr>\n",
       "      <td>3</td>\n",
       "      <td>219.050003</td>\n",
       "      <td>222.360001</td>\n",
       "      <td>216.809998</td>\n",
       "      <td>222.220001</td>\n",
       "      <td>218.824341</td>\n",
       "      <td>58323200</td>\n",
       "    </tr>\n",
       "    <tr>\n",
       "      <td>4</td>\n",
       "      <td>209.550003</td>\n",
       "      <td>213.649994</td>\n",
       "      <td>205.429993</td>\n",
       "      <td>207.479996</td>\n",
       "      <td>204.309570</td>\n",
       "      <td>91328700</td>\n",
       "    </tr>\n",
       "    <tr>\n",
       "      <td>...</td>\n",
       "      <td>...</td>\n",
       "      <td>...</td>\n",
       "      <td>...</td>\n",
       "      <td>...</td>\n",
       "      <td>...</td>\n",
       "      <td>...</td>\n",
       "    </tr>\n",
       "    <tr>\n",
       "      <td>245</td>\n",
       "      <td>237.520004</td>\n",
       "      <td>240.990005</td>\n",
       "      <td>237.320007</td>\n",
       "      <td>240.509995</td>\n",
       "      <td>240.509995</td>\n",
       "      <td>21811800</td>\n",
       "    </tr>\n",
       "    <tr>\n",
       "      <td>246</td>\n",
       "      <td>241.160004</td>\n",
       "      <td>242.199997</td>\n",
       "      <td>239.619995</td>\n",
       "      <td>239.960007</td>\n",
       "      <td>239.960007</td>\n",
       "      <td>20573400</td>\n",
       "    </tr>\n",
       "    <tr>\n",
       "      <td>247</td>\n",
       "      <td>242.100006</td>\n",
       "      <td>243.240005</td>\n",
       "      <td>241.220001</td>\n",
       "      <td>243.179993</td>\n",
       "      <td>243.179993</td>\n",
       "      <td>18957200</td>\n",
       "    </tr>\n",
       "    <tr>\n",
       "      <td>248</td>\n",
       "      <td>244.509995</td>\n",
       "      <td>244.800003</td>\n",
       "      <td>241.809998</td>\n",
       "      <td>243.580002</td>\n",
       "      <td>243.580002</td>\n",
       "      <td>17318800</td>\n",
       "    </tr>\n",
       "    <tr>\n",
       "      <td>249</td>\n",
       "      <td>243.160004</td>\n",
       "      <td>246.729996</td>\n",
       "      <td>242.880005</td>\n",
       "      <td>246.580002</td>\n",
       "      <td>246.580002</td>\n",
       "      <td>18330500</td>\n",
       "    </tr>\n",
       "  </tbody>\n",
       "</table>\n",
       "<p>250 rows × 6 columns</p>\n",
       "</div>"
      ],
      "text/plain": [
       "           Open        High         Low       Close   Adj Close    Volume\n",
       "0    219.190002  219.690002  206.089996  212.240005  208.996857  45935500\n",
       "1    211.149994  215.179993  209.270004  213.300003  210.040649  36660000\n",
       "2    216.880005  220.449997  216.619995  218.860001  215.515686  38358900\n",
       "3    219.050003  222.360001  216.809998  222.220001  218.824341  58323200\n",
       "4    209.550003  213.649994  205.429993  207.479996  204.309570  91328700\n",
       "..          ...         ...         ...         ...         ...       ...\n",
       "245  237.520004  240.990005  237.320007  240.509995  240.509995  21811800\n",
       "246  241.160004  242.199997  239.619995  239.960007  239.960007  20573400\n",
       "247  242.100006  243.240005  241.220001  243.179993  243.179993  18957200\n",
       "248  244.509995  244.800003  241.809998  243.580002  243.580002  17318800\n",
       "249  243.160004  246.729996  242.880005  246.580002  246.580002  18330500\n",
       "\n",
       "[250 rows x 6 columns]"
      ]
     },
     "execution_count": 117,
     "metadata": {},
     "output_type": "execute_result"
    }
   ],
   "source": [
    "df.dtypes\n",
    "df = df.drop(columns='Date', axis=1)\n",
    "df"
   ]
  },
  {
   "cell_type": "code",
   "execution_count": 118,
   "metadata": {},
   "outputs": [],
   "source": [
    "forecast_out = 3\n",
    "df['Pred'] = df[['High']].shift(-forecast_out)"
   ]
  },
  {
   "cell_type": "code",
   "execution_count": 119,
   "metadata": {},
   "outputs": [
    {
     "data": {
      "text/html": [
       "<div>\n",
       "<style scoped>\n",
       "    .dataframe tbody tr th:only-of-type {\n",
       "        vertical-align: middle;\n",
       "    }\n",
       "\n",
       "    .dataframe tbody tr th {\n",
       "        vertical-align: top;\n",
       "    }\n",
       "\n",
       "    .dataframe thead th {\n",
       "        text-align: right;\n",
       "    }\n",
       "</style>\n",
       "<table border=\"1\" class=\"dataframe\">\n",
       "  <thead>\n",
       "    <tr style=\"text-align: right;\">\n",
       "      <th></th>\n",
       "      <th>Open</th>\n",
       "      <th>High</th>\n",
       "      <th>Low</th>\n",
       "      <th>Close</th>\n",
       "      <th>Adj Close</th>\n",
       "      <th>Volume</th>\n",
       "      <th>Pred</th>\n",
       "    </tr>\n",
       "  </thead>\n",
       "  <tbody>\n",
       "    <tr>\n",
       "      <td>242</td>\n",
       "      <td>233.369995</td>\n",
       "      <td>235.240005</td>\n",
       "      <td>233.199997</td>\n",
       "      <td>234.369995</td>\n",
       "      <td>234.369995</td>\n",
       "      <td>18475800</td>\n",
       "      <td>240.990005</td>\n",
       "    </tr>\n",
       "    <tr>\n",
       "      <td>243</td>\n",
       "      <td>235.089996</td>\n",
       "      <td>236.149994</td>\n",
       "      <td>233.520004</td>\n",
       "      <td>235.279999</td>\n",
       "      <td>235.279999</td>\n",
       "      <td>16896300</td>\n",
       "      <td>242.199997</td>\n",
       "    </tr>\n",
       "    <tr>\n",
       "      <td>244</td>\n",
       "      <td>234.589996</td>\n",
       "      <td>237.580002</td>\n",
       "      <td>234.289993</td>\n",
       "      <td>236.410004</td>\n",
       "      <td>236.410004</td>\n",
       "      <td>24358400</td>\n",
       "      <td>243.240005</td>\n",
       "    </tr>\n",
       "    <tr>\n",
       "      <td>245</td>\n",
       "      <td>237.520004</td>\n",
       "      <td>240.990005</td>\n",
       "      <td>237.320007</td>\n",
       "      <td>240.509995</td>\n",
       "      <td>240.509995</td>\n",
       "      <td>21811800</td>\n",
       "      <td>244.800003</td>\n",
       "    </tr>\n",
       "    <tr>\n",
       "      <td>246</td>\n",
       "      <td>241.160004</td>\n",
       "      <td>242.199997</td>\n",
       "      <td>239.619995</td>\n",
       "      <td>239.960007</td>\n",
       "      <td>239.960007</td>\n",
       "      <td>20573400</td>\n",
       "      <td>246.729996</td>\n",
       "    </tr>\n",
       "    <tr>\n",
       "      <td>247</td>\n",
       "      <td>242.100006</td>\n",
       "      <td>243.240005</td>\n",
       "      <td>241.220001</td>\n",
       "      <td>243.179993</td>\n",
       "      <td>243.179993</td>\n",
       "      <td>18957200</td>\n",
       "      <td>NaN</td>\n",
       "    </tr>\n",
       "    <tr>\n",
       "      <td>248</td>\n",
       "      <td>244.509995</td>\n",
       "      <td>244.800003</td>\n",
       "      <td>241.809998</td>\n",
       "      <td>243.580002</td>\n",
       "      <td>243.580002</td>\n",
       "      <td>17318800</td>\n",
       "      <td>NaN</td>\n",
       "    </tr>\n",
       "    <tr>\n",
       "      <td>249</td>\n",
       "      <td>243.160004</td>\n",
       "      <td>246.729996</td>\n",
       "      <td>242.880005</td>\n",
       "      <td>246.580002</td>\n",
       "      <td>246.580002</td>\n",
       "      <td>18330500</td>\n",
       "      <td>NaN</td>\n",
       "    </tr>\n",
       "  </tbody>\n",
       "</table>\n",
       "</div>"
      ],
      "text/plain": [
       "           Open        High         Low       Close   Adj Close    Volume  \\\n",
       "242  233.369995  235.240005  233.199997  234.369995  234.369995  18475800   \n",
       "243  235.089996  236.149994  233.520004  235.279999  235.279999  16896300   \n",
       "244  234.589996  237.580002  234.289993  236.410004  236.410004  24358400   \n",
       "245  237.520004  240.990005  237.320007  240.509995  240.509995  21811800   \n",
       "246  241.160004  242.199997  239.619995  239.960007  239.960007  20573400   \n",
       "247  242.100006  243.240005  241.220001  243.179993  243.179993  18957200   \n",
       "248  244.509995  244.800003  241.809998  243.580002  243.580002  17318800   \n",
       "249  243.160004  246.729996  242.880005  246.580002  246.580002  18330500   \n",
       "\n",
       "           Pred  \n",
       "242  240.990005  \n",
       "243  242.199997  \n",
       "244  243.240005  \n",
       "245  244.800003  \n",
       "246  246.729996  \n",
       "247         NaN  \n",
       "248         NaN  \n",
       "249         NaN  "
      ]
     },
     "execution_count": 119,
     "metadata": {},
     "output_type": "execute_result"
    }
   ],
   "source": [
    "df.tail(8)"
   ]
  },
  {
   "cell_type": "code",
   "execution_count": 120,
   "metadata": {},
   "outputs": [],
   "source": [
    "x = np.array(df.drop(['Pred'], axis=1))"
   ]
  },
  {
   "cell_type": "code",
   "execution_count": 121,
   "metadata": {},
   "outputs": [],
   "source": [
    "x = x[:-forecast_out]\n",
    "# x = np.delete(x, 0, axis=1)"
   ]
  },
  {
   "cell_type": "code",
   "execution_count": 122,
   "metadata": {},
   "outputs": [],
   "source": [
    "y = np.array(df['Pred']) # dependent set Y\n",
    "y = y[:-forecast_out]"
   ]
  },
  {
   "cell_type": "code",
   "execution_count": 123,
   "metadata": {},
   "outputs": [],
   "source": [
    "x_train, x_test, y_train, y_test = train_test_split(x, y, test_size=0.2)"
   ]
  },
  {
   "cell_type": "code",
   "execution_count": 124,
   "metadata": {},
   "outputs": [
    {
     "data": {
      "text/plain": [
       "SVR(C=1000.0, cache_size=200, coef0=0.0, degree=3, epsilon=0.1, gamma=0.1,\n",
       "    kernel='rbf', max_iter=-1, shrinking=True, tol=0.001, verbose=False)"
      ]
     },
     "execution_count": 124,
     "metadata": {},
     "output_type": "execute_result"
    }
   ],
   "source": [
    "svr_conf = SVR(kernel='rbf', C=1e3, gamma=0.1)\n",
    "svr_conf.fit(x_train, y_train)"
   ]
  },
  {
   "cell_type": "code",
   "execution_count": 125,
   "metadata": {},
   "outputs": [
    {
     "data": {
      "text/plain": [
       "-0.08465868756887884"
      ]
     },
     "execution_count": 125,
     "metadata": {},
     "output_type": "execute_result"
    }
   ],
   "source": [
    "svm_conf = svr_conf.score(x_test, y_test)\n",
    "svm_conf"
   ]
  },
  {
   "cell_type": "code",
   "execution_count": 126,
   "metadata": {},
   "outputs": [
    {
     "data": {
      "text/plain": [
       "LinearRegression(copy_X=True, fit_intercept=True, n_jobs=None, normalize=False)"
      ]
     },
     "execution_count": 126,
     "metadata": {},
     "output_type": "execute_result"
    }
   ],
   "source": [
    "# linear regression model\n",
    "lr = LinearRegression()\n",
    "lr.fit(x_train, y_train)"
   ]
  },
  {
   "cell_type": "code",
   "execution_count": 127,
   "metadata": {},
   "outputs": [
    {
     "data": {
      "text/plain": [
       "0.9230367475766182"
      ]
     },
     "execution_count": 127,
     "metadata": {},
     "output_type": "execute_result"
    }
   ],
   "source": [
    "lr_conf = lr.score(x_test, y_test)\n",
    "lr_conf"
   ]
  },
  {
   "cell_type": "code",
   "execution_count": 128,
   "metadata": {},
   "outputs": [
    {
     "data": {
      "text/plain": [
       "array([245.35154428, 245.32462206, 246.95287873])"
      ]
     },
     "execution_count": 128,
     "metadata": {},
     "output_type": "execute_result"
    }
   ],
   "source": [
    "x_forecast = np.array(df.drop(['Pred'], 1))[-forecast_out:]\n",
    "lr_pred = lr.predict(x_forecast)\n",
    "lr_pred"
   ]
  },
  {
   "cell_type": "code",
   "execution_count": 129,
   "metadata": {},
   "outputs": [
    {
     "data": {
      "text/plain": [
       "array([193.19771599, 193.19771599, 193.19771599])"
      ]
     },
     "execution_count": 129,
     "metadata": {},
     "output_type": "execute_result"
    }
   ],
   "source": [
    "svr_pred = svr_conf.predict(x_forecast)\n",
    "svr_pred"
   ]
  },
  {
   "cell_type": "code",
   "execution_count": 132,
   "metadata": {},
   "outputs": [
    {
     "ename": "ValueError",
     "evalue": "operands could not be broadcast together with shapes (3,) (3,6) ",
     "output_type": "error",
     "traceback": [
      "\u001b[0;31m---------------------------------------------------------------------------\u001b[0m",
      "\u001b[0;31mValueError\u001b[0m                                Traceback (most recent call last)",
      "\u001b[0;32m<ipython-input-132-2c010c4737d5>\u001b[0m in \u001b[0;36m<module>\u001b[0;34m()\u001b[0m\n\u001b[0;32m----> 1\u001b[0;31m \u001b[0mlr_pred\u001b[0m \u001b[0;34m-\u001b[0m \u001b[0mx_forecast\u001b[0m\u001b[0;34m\u001b[0m\u001b[0;34m\u001b[0m\u001b[0m\n\u001b[0m",
      "\u001b[0;31mValueError\u001b[0m: operands could not be broadcast together with shapes (3,) (3,6) "
     ]
    }
   ],
   "source": [
    "lr_pred - x_forecast"
   ]
  },
  {
   "cell_type": "code",
   "execution_count": null,
   "metadata": {},
   "outputs": [],
   "source": []
  }
 ],
 "metadata": {
  "kernelspec": {
   "display_name": "Python 3",
   "language": "python",
   "name": "python3"
  },
  "language_info": {
   "codemirror_mode": {
    "name": "ipython",
    "version": 3
   },
   "file_extension": ".py",
   "mimetype": "text/x-python",
   "name": "python",
   "nbconvert_exporter": "python",
   "pygments_lexer": "ipython3",
   "version": "3.6.8"
  }
 },
 "nbformat": 4,
 "nbformat_minor": 2
}
